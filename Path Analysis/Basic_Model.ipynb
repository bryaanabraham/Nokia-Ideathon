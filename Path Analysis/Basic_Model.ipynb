{
  "cells": [
    {
      "cell_type": "markdown",
      "metadata": {
        "id": "view-in-github",
        "colab_type": "text"
      },
      "source": [
        "<a href=\"https://colab.research.google.com/github/bryaanabraham/Nokia-Ideathon/blob/main/Path%20Analysis/Basic_Model.ipynb\" target=\"_parent\"><img src=\"https://colab.research.google.com/assets/colab-badge.svg\" alt=\"Open In Colab\"/></a>"
      ]
    },
    {
      "cell_type": "markdown",
      "source": [
        "# Dependencies"
      ],
      "metadata": {
        "id": "MsYG4lRiptfk"
      }
    },
    {
      "cell_type": "code",
      "execution_count": 176,
      "metadata": {
        "id": "SJnFED4TU-GG"
      },
      "outputs": [],
      "source": [
        "import pandas as pd\n",
        "import matplotlib.pyplot as plt\n",
        "import math\n",
        "import numpy as np\n",
        "import folium\n",
        "import random\n",
        "import time\n",
        "from geopy.distance import geodesic\n",
        "from sklearn.ensemble import IsolationForest\n",
        "from sklearn.model_selection import train_test_split\n",
        "from sklearn.ensemble import RandomForestClassifier\n",
        "from sklearn.metrics import accuracy_score\n",
        "from statistics import mode\n",
        "import requests"
      ]
    },
    {
      "cell_type": "markdown",
      "source": [
        "# Path Analysis and Path_id Detection"
      ],
      "metadata": {
        "id": "oc7At8zRoFRa"
      }
    },
    {
      "cell_type": "markdown",
      "metadata": {
        "id": "8UiYQ0p5I2ts"
      },
      "source": [
        "Dataset includes longitude and latitude values which is used to train a model for path prediction"
      ]
    },
    {
      "cell_type": "code",
      "execution_count": 177,
      "metadata": {
        "colab": {
          "base_uri": "https://localhost:8080/",
          "height": 206
        },
        "id": "fkHl9Vj8VEL4",
        "outputId": "490f7524-776d-46ed-be94-88ecf18f8c7a"
      },
      "outputs": [
        {
          "output_type": "execute_result",
          "data": {
            "text/plain": [
              "    latitude  longitude  path_id  danger_metric  weather_sensitivity\n",
              "0  12.819391  80.039350      1.0            0.0                  4.0\n",
              "1  12.819807  80.038250      1.0            4.0                  1.0\n",
              "2  12.820105  80.037061      1.0            2.0                  2.0\n",
              "3  12.819367  80.036577      1.0            2.0                  3.0\n",
              "4  12.818376  80.035731      1.0            2.0                  5.0"
            ],
            "text/html": [
              "\n",
              "  <div id=\"df-efc52e5b-6771-447d-8b09-b11619598425\" class=\"colab-df-container\">\n",
              "    <div>\n",
              "<style scoped>\n",
              "    .dataframe tbody tr th:only-of-type {\n",
              "        vertical-align: middle;\n",
              "    }\n",
              "\n",
              "    .dataframe tbody tr th {\n",
              "        vertical-align: top;\n",
              "    }\n",
              "\n",
              "    .dataframe thead th {\n",
              "        text-align: right;\n",
              "    }\n",
              "</style>\n",
              "<table border=\"1\" class=\"dataframe\">\n",
              "  <thead>\n",
              "    <tr style=\"text-align: right;\">\n",
              "      <th></th>\n",
              "      <th>latitude</th>\n",
              "      <th>longitude</th>\n",
              "      <th>path_id</th>\n",
              "      <th>danger_metric</th>\n",
              "      <th>weather_sensitivity</th>\n",
              "    </tr>\n",
              "  </thead>\n",
              "  <tbody>\n",
              "    <tr>\n",
              "      <th>0</th>\n",
              "      <td>12.819391</td>\n",
              "      <td>80.039350</td>\n",
              "      <td>1.0</td>\n",
              "      <td>0.0</td>\n",
              "      <td>4.0</td>\n",
              "    </tr>\n",
              "    <tr>\n",
              "      <th>1</th>\n",
              "      <td>12.819807</td>\n",
              "      <td>80.038250</td>\n",
              "      <td>1.0</td>\n",
              "      <td>4.0</td>\n",
              "      <td>1.0</td>\n",
              "    </tr>\n",
              "    <tr>\n",
              "      <th>2</th>\n",
              "      <td>12.820105</td>\n",
              "      <td>80.037061</td>\n",
              "      <td>1.0</td>\n",
              "      <td>2.0</td>\n",
              "      <td>2.0</td>\n",
              "    </tr>\n",
              "    <tr>\n",
              "      <th>3</th>\n",
              "      <td>12.819367</td>\n",
              "      <td>80.036577</td>\n",
              "      <td>1.0</td>\n",
              "      <td>2.0</td>\n",
              "      <td>3.0</td>\n",
              "    </tr>\n",
              "    <tr>\n",
              "      <th>4</th>\n",
              "      <td>12.818376</td>\n",
              "      <td>80.035731</td>\n",
              "      <td>1.0</td>\n",
              "      <td>2.0</td>\n",
              "      <td>5.0</td>\n",
              "    </tr>\n",
              "  </tbody>\n",
              "</table>\n",
              "</div>\n",
              "    <div class=\"colab-df-buttons\">\n",
              "\n",
              "  <div class=\"colab-df-container\">\n",
              "    <button class=\"colab-df-convert\" onclick=\"convertToInteractive('df-efc52e5b-6771-447d-8b09-b11619598425')\"\n",
              "            title=\"Convert this dataframe to an interactive table.\"\n",
              "            style=\"display:none;\">\n",
              "\n",
              "  <svg xmlns=\"http://www.w3.org/2000/svg\" height=\"24px\" viewBox=\"0 -960 960 960\">\n",
              "    <path d=\"M120-120v-720h720v720H120Zm60-500h600v-160H180v160Zm220 220h160v-160H400v160Zm0 220h160v-160H400v160ZM180-400h160v-160H180v160Zm440 0h160v-160H620v160ZM180-180h160v-160H180v160Zm440 0h160v-160H620v160Z\"/>\n",
              "  </svg>\n",
              "    </button>\n",
              "\n",
              "  <style>\n",
              "    .colab-df-container {\n",
              "      display:flex;\n",
              "      gap: 12px;\n",
              "    }\n",
              "\n",
              "    .colab-df-convert {\n",
              "      background-color: #E8F0FE;\n",
              "      border: none;\n",
              "      border-radius: 50%;\n",
              "      cursor: pointer;\n",
              "      display: none;\n",
              "      fill: #1967D2;\n",
              "      height: 32px;\n",
              "      padding: 0 0 0 0;\n",
              "      width: 32px;\n",
              "    }\n",
              "\n",
              "    .colab-df-convert:hover {\n",
              "      background-color: #E2EBFA;\n",
              "      box-shadow: 0px 1px 2px rgba(60, 64, 67, 0.3), 0px 1px 3px 1px rgba(60, 64, 67, 0.15);\n",
              "      fill: #174EA6;\n",
              "    }\n",
              "\n",
              "    .colab-df-buttons div {\n",
              "      margin-bottom: 4px;\n",
              "    }\n",
              "\n",
              "    [theme=dark] .colab-df-convert {\n",
              "      background-color: #3B4455;\n",
              "      fill: #D2E3FC;\n",
              "    }\n",
              "\n",
              "    [theme=dark] .colab-df-convert:hover {\n",
              "      background-color: #434B5C;\n",
              "      box-shadow: 0px 1px 3px 1px rgba(0, 0, 0, 0.15);\n",
              "      filter: drop-shadow(0px 1px 2px rgba(0, 0, 0, 0.3));\n",
              "      fill: #FFFFFF;\n",
              "    }\n",
              "  </style>\n",
              "\n",
              "    <script>\n",
              "      const buttonEl =\n",
              "        document.querySelector('#df-efc52e5b-6771-447d-8b09-b11619598425 button.colab-df-convert');\n",
              "      buttonEl.style.display =\n",
              "        google.colab.kernel.accessAllowed ? 'block' : 'none';\n",
              "\n",
              "      async function convertToInteractive(key) {\n",
              "        const element = document.querySelector('#df-efc52e5b-6771-447d-8b09-b11619598425');\n",
              "        const dataTable =\n",
              "          await google.colab.kernel.invokeFunction('convertToInteractive',\n",
              "                                                    [key], {});\n",
              "        if (!dataTable) return;\n",
              "\n",
              "        const docLinkHtml = 'Like what you see? Visit the ' +\n",
              "          '<a target=\"_blank\" href=https://colab.research.google.com/notebooks/data_table.ipynb>data table notebook</a>'\n",
              "          + ' to learn more about interactive tables.';\n",
              "        element.innerHTML = '';\n",
              "        dataTable['output_type'] = 'display_data';\n",
              "        await google.colab.output.renderOutput(dataTable, element);\n",
              "        const docLink = document.createElement('div');\n",
              "        docLink.innerHTML = docLinkHtml;\n",
              "        element.appendChild(docLink);\n",
              "      }\n",
              "    </script>\n",
              "  </div>\n",
              "\n",
              "\n",
              "<div id=\"df-d1200cf0-d7e5-4872-886e-9cbfc559f725\">\n",
              "  <button class=\"colab-df-quickchart\" onclick=\"quickchart('df-d1200cf0-d7e5-4872-886e-9cbfc559f725')\"\n",
              "            title=\"Suggest charts\"\n",
              "            style=\"display:none;\">\n",
              "\n",
              "<svg xmlns=\"http://www.w3.org/2000/svg\" height=\"24px\"viewBox=\"0 0 24 24\"\n",
              "     width=\"24px\">\n",
              "    <g>\n",
              "        <path d=\"M19 3H5c-1.1 0-2 .9-2 2v14c0 1.1.9 2 2 2h14c1.1 0 2-.9 2-2V5c0-1.1-.9-2-2-2zM9 17H7v-7h2v7zm4 0h-2V7h2v10zm4 0h-2v-4h2v4z\"/>\n",
              "    </g>\n",
              "</svg>\n",
              "  </button>\n",
              "\n",
              "<style>\n",
              "  .colab-df-quickchart {\n",
              "      --bg-color: #E8F0FE;\n",
              "      --fill-color: #1967D2;\n",
              "      --hover-bg-color: #E2EBFA;\n",
              "      --hover-fill-color: #174EA6;\n",
              "      --disabled-fill-color: #AAA;\n",
              "      --disabled-bg-color: #DDD;\n",
              "  }\n",
              "\n",
              "  [theme=dark] .colab-df-quickchart {\n",
              "      --bg-color: #3B4455;\n",
              "      --fill-color: #D2E3FC;\n",
              "      --hover-bg-color: #434B5C;\n",
              "      --hover-fill-color: #FFFFFF;\n",
              "      --disabled-bg-color: #3B4455;\n",
              "      --disabled-fill-color: #666;\n",
              "  }\n",
              "\n",
              "  .colab-df-quickchart {\n",
              "    background-color: var(--bg-color);\n",
              "    border: none;\n",
              "    border-radius: 50%;\n",
              "    cursor: pointer;\n",
              "    display: none;\n",
              "    fill: var(--fill-color);\n",
              "    height: 32px;\n",
              "    padding: 0;\n",
              "    width: 32px;\n",
              "  }\n",
              "\n",
              "  .colab-df-quickchart:hover {\n",
              "    background-color: var(--hover-bg-color);\n",
              "    box-shadow: 0 1px 2px rgba(60, 64, 67, 0.3), 0 1px 3px 1px rgba(60, 64, 67, 0.15);\n",
              "    fill: var(--button-hover-fill-color);\n",
              "  }\n",
              "\n",
              "  .colab-df-quickchart-complete:disabled,\n",
              "  .colab-df-quickchart-complete:disabled:hover {\n",
              "    background-color: var(--disabled-bg-color);\n",
              "    fill: var(--disabled-fill-color);\n",
              "    box-shadow: none;\n",
              "  }\n",
              "\n",
              "  .colab-df-spinner {\n",
              "    border: 2px solid var(--fill-color);\n",
              "    border-color: transparent;\n",
              "    border-bottom-color: var(--fill-color);\n",
              "    animation:\n",
              "      spin 1s steps(1) infinite;\n",
              "  }\n",
              "\n",
              "  @keyframes spin {\n",
              "    0% {\n",
              "      border-color: transparent;\n",
              "      border-bottom-color: var(--fill-color);\n",
              "      border-left-color: var(--fill-color);\n",
              "    }\n",
              "    20% {\n",
              "      border-color: transparent;\n",
              "      border-left-color: var(--fill-color);\n",
              "      border-top-color: var(--fill-color);\n",
              "    }\n",
              "    30% {\n",
              "      border-color: transparent;\n",
              "      border-left-color: var(--fill-color);\n",
              "      border-top-color: var(--fill-color);\n",
              "      border-right-color: var(--fill-color);\n",
              "    }\n",
              "    40% {\n",
              "      border-color: transparent;\n",
              "      border-right-color: var(--fill-color);\n",
              "      border-top-color: var(--fill-color);\n",
              "    }\n",
              "    60% {\n",
              "      border-color: transparent;\n",
              "      border-right-color: var(--fill-color);\n",
              "    }\n",
              "    80% {\n",
              "      border-color: transparent;\n",
              "      border-right-color: var(--fill-color);\n",
              "      border-bottom-color: var(--fill-color);\n",
              "    }\n",
              "    90% {\n",
              "      border-color: transparent;\n",
              "      border-bottom-color: var(--fill-color);\n",
              "    }\n",
              "  }\n",
              "</style>\n",
              "\n",
              "  <script>\n",
              "    async function quickchart(key) {\n",
              "      const quickchartButtonEl =\n",
              "        document.querySelector('#' + key + ' button');\n",
              "      quickchartButtonEl.disabled = true;  // To prevent multiple clicks.\n",
              "      quickchartButtonEl.classList.add('colab-df-spinner');\n",
              "      try {\n",
              "        const charts = await google.colab.kernel.invokeFunction(\n",
              "            'suggestCharts', [key], {});\n",
              "      } catch (error) {\n",
              "        console.error('Error during call to suggestCharts:', error);\n",
              "      }\n",
              "      quickchartButtonEl.classList.remove('colab-df-spinner');\n",
              "      quickchartButtonEl.classList.add('colab-df-quickchart-complete');\n",
              "    }\n",
              "    (() => {\n",
              "      let quickchartButtonEl =\n",
              "        document.querySelector('#df-d1200cf0-d7e5-4872-886e-9cbfc559f725 button');\n",
              "      quickchartButtonEl.style.display =\n",
              "        google.colab.kernel.accessAllowed ? 'block' : 'none';\n",
              "    })();\n",
              "  </script>\n",
              "</div>\n",
              "\n",
              "    </div>\n",
              "  </div>\n"
            ],
            "application/vnd.google.colaboratory.intrinsic+json": {
              "type": "dataframe",
              "variable_name": "coords",
              "summary": "{\n  \"name\": \"coords\",\n  \"rows\": 99,\n  \"fields\": [\n    {\n      \"column\": \"latitude\",\n      \"properties\": {\n        \"dtype\": \"number\",\n        \"std\": 0.016083845213901396,\n        \"min\": 12.77360597,\n        \"max\": 12.82010455,\n        \"num_unique_values\": 69,\n        \"samples\": [\n          12.79666802,\n          12.81939052,\n          12.78158486\n        ],\n        \"semantic_type\": \"\",\n        \"description\": \"\"\n      }\n    },\n    {\n      \"column\": \"longitude\",\n      \"properties\": {\n        \"dtype\": \"number\",\n        \"std\": 0.008580199627300273,\n        \"min\": 80.00960461,\n        \"max\": 80.03934997,\n        \"num_unique_values\": 69,\n        \"samples\": [\n          80.02133595,\n          80.03934997,\n          80.02822683\n        ],\n        \"semantic_type\": \"\",\n        \"description\": \"\"\n      }\n    },\n    {\n      \"column\": \"path_id\",\n      \"properties\": {\n        \"dtype\": \"number\",\n        \"std\": 0.4981929828853958,\n        \"min\": 1.0,\n        \"max\": 2.0,\n        \"num_unique_values\": 2,\n        \"samples\": [\n          2.0,\n          1.0\n        ],\n        \"semantic_type\": \"\",\n        \"description\": \"\"\n      }\n    },\n    {\n      \"column\": \"danger_metric\",\n      \"properties\": {\n        \"dtype\": \"number\",\n        \"std\": 1.8314911754601761,\n        \"min\": 0.0,\n        \"max\": 8.0,\n        \"num_unique_values\": 9,\n        \"samples\": [\n          5.0,\n          4.0\n        ],\n        \"semantic_type\": \"\",\n        \"description\": \"\"\n      }\n    },\n    {\n      \"column\": \"weather_sensitivity\",\n      \"properties\": {\n        \"dtype\": \"number\",\n        \"std\": 1.580323768001015,\n        \"min\": 0.0,\n        \"max\": 5.0,\n        \"num_unique_values\": 6,\n        \"samples\": [\n          4.0,\n          1.0\n        ],\n        \"semantic_type\": \"\",\n        \"description\": \"\"\n      }\n    }\n  ]\n}"
            }
          },
          "metadata": {},
          "execution_count": 177
        }
      ],
      "source": [
        "coords = pd.read_csv(\"Coordinates.csv\")\n",
        "coords = coords.dropna(how='all')\n",
        "coords.head()"
      ]
    },
    {
      "cell_type": "markdown",
      "metadata": {
        "id": "e9645-YlJFXG"
      },
      "source": [
        "Visual Representation of all data points with a scatter plot"
      ]
    },
    {
      "cell_type": "code",
      "source": [
        "coords.tail()"
      ],
      "metadata": {
        "id": "7k8iqOFXcEF3",
        "outputId": "d33bf2c9-96f4-441f-a6f6-b763fda5a094",
        "colab": {
          "base_uri": "https://localhost:8080/",
          "height": 206
        }
      },
      "execution_count": 178,
      "outputs": [
        {
          "output_type": "execute_result",
          "data": {
            "text/plain": [
              "     latitude  longitude  path_id  danger_metric  weather_sensitivity\n",
              "94  12.774042  80.012670      2.0            3.0                  3.0\n",
              "95  12.774320  80.011681      2.0            2.0                  5.0\n",
              "96  12.774402  80.011073      2.0            1.0                  1.0\n",
              "97  12.774018  80.011729      2.0            0.0                  0.0\n",
              "98  12.773786  80.012908      2.0            0.0                  4.0"
            ],
            "text/html": [
              "\n",
              "  <div id=\"df-163a4695-ba30-4149-9038-a45d0f4ec706\" class=\"colab-df-container\">\n",
              "    <div>\n",
              "<style scoped>\n",
              "    .dataframe tbody tr th:only-of-type {\n",
              "        vertical-align: middle;\n",
              "    }\n",
              "\n",
              "    .dataframe tbody tr th {\n",
              "        vertical-align: top;\n",
              "    }\n",
              "\n",
              "    .dataframe thead th {\n",
              "        text-align: right;\n",
              "    }\n",
              "</style>\n",
              "<table border=\"1\" class=\"dataframe\">\n",
              "  <thead>\n",
              "    <tr style=\"text-align: right;\">\n",
              "      <th></th>\n",
              "      <th>latitude</th>\n",
              "      <th>longitude</th>\n",
              "      <th>path_id</th>\n",
              "      <th>danger_metric</th>\n",
              "      <th>weather_sensitivity</th>\n",
              "    </tr>\n",
              "  </thead>\n",
              "  <tbody>\n",
              "    <tr>\n",
              "      <th>94</th>\n",
              "      <td>12.774042</td>\n",
              "      <td>80.012670</td>\n",
              "      <td>2.0</td>\n",
              "      <td>3.0</td>\n",
              "      <td>3.0</td>\n",
              "    </tr>\n",
              "    <tr>\n",
              "      <th>95</th>\n",
              "      <td>12.774320</td>\n",
              "      <td>80.011681</td>\n",
              "      <td>2.0</td>\n",
              "      <td>2.0</td>\n",
              "      <td>5.0</td>\n",
              "    </tr>\n",
              "    <tr>\n",
              "      <th>96</th>\n",
              "      <td>12.774402</td>\n",
              "      <td>80.011073</td>\n",
              "      <td>2.0</td>\n",
              "      <td>1.0</td>\n",
              "      <td>1.0</td>\n",
              "    </tr>\n",
              "    <tr>\n",
              "      <th>97</th>\n",
              "      <td>12.774018</td>\n",
              "      <td>80.011729</td>\n",
              "      <td>2.0</td>\n",
              "      <td>0.0</td>\n",
              "      <td>0.0</td>\n",
              "    </tr>\n",
              "    <tr>\n",
              "      <th>98</th>\n",
              "      <td>12.773786</td>\n",
              "      <td>80.012908</td>\n",
              "      <td>2.0</td>\n",
              "      <td>0.0</td>\n",
              "      <td>4.0</td>\n",
              "    </tr>\n",
              "  </tbody>\n",
              "</table>\n",
              "</div>\n",
              "    <div class=\"colab-df-buttons\">\n",
              "\n",
              "  <div class=\"colab-df-container\">\n",
              "    <button class=\"colab-df-convert\" onclick=\"convertToInteractive('df-163a4695-ba30-4149-9038-a45d0f4ec706')\"\n",
              "            title=\"Convert this dataframe to an interactive table.\"\n",
              "            style=\"display:none;\">\n",
              "\n",
              "  <svg xmlns=\"http://www.w3.org/2000/svg\" height=\"24px\" viewBox=\"0 -960 960 960\">\n",
              "    <path d=\"M120-120v-720h720v720H120Zm60-500h600v-160H180v160Zm220 220h160v-160H400v160Zm0 220h160v-160H400v160ZM180-400h160v-160H180v160Zm440 0h160v-160H620v160ZM180-180h160v-160H180v160Zm440 0h160v-160H620v160Z\"/>\n",
              "  </svg>\n",
              "    </button>\n",
              "\n",
              "  <style>\n",
              "    .colab-df-container {\n",
              "      display:flex;\n",
              "      gap: 12px;\n",
              "    }\n",
              "\n",
              "    .colab-df-convert {\n",
              "      background-color: #E8F0FE;\n",
              "      border: none;\n",
              "      border-radius: 50%;\n",
              "      cursor: pointer;\n",
              "      display: none;\n",
              "      fill: #1967D2;\n",
              "      height: 32px;\n",
              "      padding: 0 0 0 0;\n",
              "      width: 32px;\n",
              "    }\n",
              "\n",
              "    .colab-df-convert:hover {\n",
              "      background-color: #E2EBFA;\n",
              "      box-shadow: 0px 1px 2px rgba(60, 64, 67, 0.3), 0px 1px 3px 1px rgba(60, 64, 67, 0.15);\n",
              "      fill: #174EA6;\n",
              "    }\n",
              "\n",
              "    .colab-df-buttons div {\n",
              "      margin-bottom: 4px;\n",
              "    }\n",
              "\n",
              "    [theme=dark] .colab-df-convert {\n",
              "      background-color: #3B4455;\n",
              "      fill: #D2E3FC;\n",
              "    }\n",
              "\n",
              "    [theme=dark] .colab-df-convert:hover {\n",
              "      background-color: #434B5C;\n",
              "      box-shadow: 0px 1px 3px 1px rgba(0, 0, 0, 0.15);\n",
              "      filter: drop-shadow(0px 1px 2px rgba(0, 0, 0, 0.3));\n",
              "      fill: #FFFFFF;\n",
              "    }\n",
              "  </style>\n",
              "\n",
              "    <script>\n",
              "      const buttonEl =\n",
              "        document.querySelector('#df-163a4695-ba30-4149-9038-a45d0f4ec706 button.colab-df-convert');\n",
              "      buttonEl.style.display =\n",
              "        google.colab.kernel.accessAllowed ? 'block' : 'none';\n",
              "\n",
              "      async function convertToInteractive(key) {\n",
              "        const element = document.querySelector('#df-163a4695-ba30-4149-9038-a45d0f4ec706');\n",
              "        const dataTable =\n",
              "          await google.colab.kernel.invokeFunction('convertToInteractive',\n",
              "                                                    [key], {});\n",
              "        if (!dataTable) return;\n",
              "\n",
              "        const docLinkHtml = 'Like what you see? Visit the ' +\n",
              "          '<a target=\"_blank\" href=https://colab.research.google.com/notebooks/data_table.ipynb>data table notebook</a>'\n",
              "          + ' to learn more about interactive tables.';\n",
              "        element.innerHTML = '';\n",
              "        dataTable['output_type'] = 'display_data';\n",
              "        await google.colab.output.renderOutput(dataTable, element);\n",
              "        const docLink = document.createElement('div');\n",
              "        docLink.innerHTML = docLinkHtml;\n",
              "        element.appendChild(docLink);\n",
              "      }\n",
              "    </script>\n",
              "  </div>\n",
              "\n",
              "\n",
              "<div id=\"df-c8aae190-800f-4c3e-974f-39d475b1874d\">\n",
              "  <button class=\"colab-df-quickchart\" onclick=\"quickchart('df-c8aae190-800f-4c3e-974f-39d475b1874d')\"\n",
              "            title=\"Suggest charts\"\n",
              "            style=\"display:none;\">\n",
              "\n",
              "<svg xmlns=\"http://www.w3.org/2000/svg\" height=\"24px\"viewBox=\"0 0 24 24\"\n",
              "     width=\"24px\">\n",
              "    <g>\n",
              "        <path d=\"M19 3H5c-1.1 0-2 .9-2 2v14c0 1.1.9 2 2 2h14c1.1 0 2-.9 2-2V5c0-1.1-.9-2-2-2zM9 17H7v-7h2v7zm4 0h-2V7h2v10zm4 0h-2v-4h2v4z\"/>\n",
              "    </g>\n",
              "</svg>\n",
              "  </button>\n",
              "\n",
              "<style>\n",
              "  .colab-df-quickchart {\n",
              "      --bg-color: #E8F0FE;\n",
              "      --fill-color: #1967D2;\n",
              "      --hover-bg-color: #E2EBFA;\n",
              "      --hover-fill-color: #174EA6;\n",
              "      --disabled-fill-color: #AAA;\n",
              "      --disabled-bg-color: #DDD;\n",
              "  }\n",
              "\n",
              "  [theme=dark] .colab-df-quickchart {\n",
              "      --bg-color: #3B4455;\n",
              "      --fill-color: #D2E3FC;\n",
              "      --hover-bg-color: #434B5C;\n",
              "      --hover-fill-color: #FFFFFF;\n",
              "      --disabled-bg-color: #3B4455;\n",
              "      --disabled-fill-color: #666;\n",
              "  }\n",
              "\n",
              "  .colab-df-quickchart {\n",
              "    background-color: var(--bg-color);\n",
              "    border: none;\n",
              "    border-radius: 50%;\n",
              "    cursor: pointer;\n",
              "    display: none;\n",
              "    fill: var(--fill-color);\n",
              "    height: 32px;\n",
              "    padding: 0;\n",
              "    width: 32px;\n",
              "  }\n",
              "\n",
              "  .colab-df-quickchart:hover {\n",
              "    background-color: var(--hover-bg-color);\n",
              "    box-shadow: 0 1px 2px rgba(60, 64, 67, 0.3), 0 1px 3px 1px rgba(60, 64, 67, 0.15);\n",
              "    fill: var(--button-hover-fill-color);\n",
              "  }\n",
              "\n",
              "  .colab-df-quickchart-complete:disabled,\n",
              "  .colab-df-quickchart-complete:disabled:hover {\n",
              "    background-color: var(--disabled-bg-color);\n",
              "    fill: var(--disabled-fill-color);\n",
              "    box-shadow: none;\n",
              "  }\n",
              "\n",
              "  .colab-df-spinner {\n",
              "    border: 2px solid var(--fill-color);\n",
              "    border-color: transparent;\n",
              "    border-bottom-color: var(--fill-color);\n",
              "    animation:\n",
              "      spin 1s steps(1) infinite;\n",
              "  }\n",
              "\n",
              "  @keyframes spin {\n",
              "    0% {\n",
              "      border-color: transparent;\n",
              "      border-bottom-color: var(--fill-color);\n",
              "      border-left-color: var(--fill-color);\n",
              "    }\n",
              "    20% {\n",
              "      border-color: transparent;\n",
              "      border-left-color: var(--fill-color);\n",
              "      border-top-color: var(--fill-color);\n",
              "    }\n",
              "    30% {\n",
              "      border-color: transparent;\n",
              "      border-left-color: var(--fill-color);\n",
              "      border-top-color: var(--fill-color);\n",
              "      border-right-color: var(--fill-color);\n",
              "    }\n",
              "    40% {\n",
              "      border-color: transparent;\n",
              "      border-right-color: var(--fill-color);\n",
              "      border-top-color: var(--fill-color);\n",
              "    }\n",
              "    60% {\n",
              "      border-color: transparent;\n",
              "      border-right-color: var(--fill-color);\n",
              "    }\n",
              "    80% {\n",
              "      border-color: transparent;\n",
              "      border-right-color: var(--fill-color);\n",
              "      border-bottom-color: var(--fill-color);\n",
              "    }\n",
              "    90% {\n",
              "      border-color: transparent;\n",
              "      border-bottom-color: var(--fill-color);\n",
              "    }\n",
              "  }\n",
              "</style>\n",
              "\n",
              "  <script>\n",
              "    async function quickchart(key) {\n",
              "      const quickchartButtonEl =\n",
              "        document.querySelector('#' + key + ' button');\n",
              "      quickchartButtonEl.disabled = true;  // To prevent multiple clicks.\n",
              "      quickchartButtonEl.classList.add('colab-df-spinner');\n",
              "      try {\n",
              "        const charts = await google.colab.kernel.invokeFunction(\n",
              "            'suggestCharts', [key], {});\n",
              "      } catch (error) {\n",
              "        console.error('Error during call to suggestCharts:', error);\n",
              "      }\n",
              "      quickchartButtonEl.classList.remove('colab-df-spinner');\n",
              "      quickchartButtonEl.classList.add('colab-df-quickchart-complete');\n",
              "    }\n",
              "    (() => {\n",
              "      let quickchartButtonEl =\n",
              "        document.querySelector('#df-c8aae190-800f-4c3e-974f-39d475b1874d button');\n",
              "      quickchartButtonEl.style.display =\n",
              "        google.colab.kernel.accessAllowed ? 'block' : 'none';\n",
              "    })();\n",
              "  </script>\n",
              "</div>\n",
              "\n",
              "    </div>\n",
              "  </div>\n"
            ],
            "application/vnd.google.colaboratory.intrinsic+json": {
              "type": "dataframe",
              "summary": "{\n  \"name\": \"coords\",\n  \"rows\": 5,\n  \"fields\": [\n    {\n      \"column\": \"latitude\",\n      \"properties\": {\n        \"dtype\": \"number\",\n        \"std\": 0.0002487331503442763,\n        \"min\": 12.77378589,\n        \"max\": 12.77440175,\n        \"num_unique_values\": 5,\n        \"samples\": [\n          12.77432041,\n          12.77378589,\n          12.77440175\n        ],\n        \"semantic_type\": \"\",\n        \"description\": \"\"\n      }\n    },\n    {\n      \"column\": \"longitude\",\n      \"properties\": {\n        \"dtype\": \"number\",\n        \"std\": 0.0007594446951357397,\n        \"min\": 80.01107338,\n        \"max\": 80.01290827,\n        \"num_unique_values\": 5,\n        \"samples\": [\n          80.01168104,\n          80.01290827,\n          80.01107338\n        ],\n        \"semantic_type\": \"\",\n        \"description\": \"\"\n      }\n    },\n    {\n      \"column\": \"path_id\",\n      \"properties\": {\n        \"dtype\": \"number\",\n        \"std\": 0.0,\n        \"min\": 2.0,\n        \"max\": 2.0,\n        \"num_unique_values\": 1,\n        \"samples\": [\n          2.0\n        ],\n        \"semantic_type\": \"\",\n        \"description\": \"\"\n      }\n    },\n    {\n      \"column\": \"danger_metric\",\n      \"properties\": {\n        \"dtype\": \"number\",\n        \"std\": 1.3038404810405297,\n        \"min\": 0.0,\n        \"max\": 3.0,\n        \"num_unique_values\": 4,\n        \"samples\": [\n          2.0\n        ],\n        \"semantic_type\": \"\",\n        \"description\": \"\"\n      }\n    },\n    {\n      \"column\": \"weather_sensitivity\",\n      \"properties\": {\n        \"dtype\": \"number\",\n        \"std\": 2.0736441353327724,\n        \"min\": 0.0,\n        \"max\": 5.0,\n        \"num_unique_values\": 5,\n        \"samples\": [\n          5.0\n        ],\n        \"semantic_type\": \"\",\n        \"description\": \"\"\n      }\n    }\n  ]\n}"
            }
          },
          "metadata": {},
          "execution_count": 178
        }
      ]
    },
    {
      "cell_type": "code",
      "execution_count": 179,
      "metadata": {
        "colab": {
          "base_uri": "https://localhost:8080/",
          "height": 449
        },
        "id": "mslKkMpZVKPo",
        "outputId": "19694677-1ce5-4d4b-f4f2-02105effc384"
      },
      "outputs": [
        {
          "output_type": "display_data",
          "data": {
            "text/plain": [
              "<Figure size 640x480 with 1 Axes>"
            ],
            "image/png": "[encoded data removed]"
          },
          "metadata": {}
        }
      ],
      "source": [
        "coords.plot(kind='scatter', y='latitude', x='longitude', s=32, alpha=.8)\n",
        "plt.gca().spines[['top', 'right',]].set_visible(False)"
      ]
    },
    {
      "cell_type": "markdown",
      "metadata": {
        "id": "3BUK-SIgJNH8"
      },
      "source": [
        "A list of data frames is made to seperate each path taken on the basis of 'path_id' attribute"
      ]
    },
    {
      "cell_type": "code",
      "execution_count": 180,
      "metadata": {
        "id": "PmQm3VTjVKyS"
      },
      "outputs": [],
      "source": [
        "path = []\n",
        "for i in range(1,len(coords['path_id'].unique())+1):\n",
        "    path.append(coords[coords['path_id'] == i])"
      ]
    },
    {
      "cell_type": "markdown",
      "metadata": {
        "id": "PcSevcQ-Jizp"
      },
      "source": [
        "Visual Representation of Individual paths on a Folium Map"
      ]
    },
    {
      "cell_type": "code",
      "execution_count": 218,
      "metadata": {
        "id": "ZGzCg37RVR-n"
      },
      "outputs": [],
      "source": [
        "maps = []\n",
        "\n",
        "max_lat = max(coords['latitude'])\n",
        "min_lat = min(coords['latitude'])\n",
        "min_lon = min(coords['longitude'])\n",
        "max_lon = max(coords['longitude'])\n",
        "\n",
        "n = len(coords['path_id'].unique())\n",
        "\n",
        "# each path_id has its own map\n",
        "for i in range(0,n):\n",
        "\n",
        "  m = folium.Map()\n",
        "  gps_path = list(zip(path[i-1]['latitude'], path[i-1]['longitude']))\n",
        "  folium.PolyLine(locations=gps_path, color='blue', weight=2.5, opacity=0.8).add_to(m)\n",
        "  folium.Marker(gps_path[20], icon=folium.Icon(color='blue'), popup=f'Known Path').add_to(m)\n",
        "\n",
        "  m.fit_bounds([(min_lat, min_lon), (max_lat, max_lon)])\n",
        "  maps.append(m)\n",
        "\n",
        "  display(maps[i])\n"
      ]
    },
    {
      "cell_type": "markdown",
      "metadata": {
        "id": "Bt130XEgJ8gM"
      },
      "source": [
        "Model for predicting path taken is made to predict which path is taken based on the current coordinate values. Model is trained on the 'training' dataset <br>X represents the feautures i.e. longitude and latitude<br>y represents the target variable that is path_id<br>Constraint: Accuracy is low due to overlapping paths"
      ]
    },
    {
      "cell_type": "code",
      "source": [
        "coords.columns"
      ],
      "metadata": {
        "colab": {
          "base_uri": "https://localhost:8080/"
        },
        "id": "Mjr0sfFc9STu",
        "outputId": "42920ecc-c282-406b-c4f3-683720fcc5e5"
      },
      "execution_count": 182,
      "outputs": [
        {
          "output_type": "execute_result",
          "data": {
            "text/plain": [
              "Index(['latitude', 'longitude', 'path_id', 'danger_metric',\n",
              "       'weather_sensitivity'],\n",
              "      dtype='object')"
            ]
          },
          "metadata": {},
          "execution_count": 182
        }
      ]
    },
    {
      "cell_type": "code",
      "execution_count": 183,
      "metadata": {
        "colab": {
          "base_uri": "https://localhost:8080/"
        },
        "id": "_2XKN2sZVmTU",
        "outputId": "20d6c185-f5ad-415e-8e90-e07b6c97ae98"
      },
      "outputs": [
        {
          "output_type": "stream",
          "name": "stdout",
          "text": [
            "Accuracy: 0.45\n",
            "Predicted Paths IDs for path '1':: 2.0, 1.0, 1.0, 2.0, 2.0, 2.0, 2.0, 2.0, 1.0, 2.0, 2.0, 2.0, 2.0, 1.0, 1.0, 2.0, 2.0, 2.0, 2.0, 1.0, 2.0, 2.0, 2.0, 2.0, 2.0, 2.0, 2.0, 2.0, 2.0, 2.0, 2.0, 2.0, 2.0, 2.0, 2.0, 2.0, 2.0, 2.0, 2.0, 2.0, 2.0, 2.0, 2.0, 2.0, 2.0, 2.0, 2.0, 2.0, 2.0, 2.0, 2.0, 2.0, 1.0, 2.0, 1.0, 2.0, \n",
            "Mode of Predicted Paths: 2\n",
            "\n",
            "Predicted Paths IDs for path '2':: 2.0, 1.0, 1.0, 2.0, 2.0, 2.0, 2.0, 2.0, 1.0, 2.0, 2.0, 2.0, 2.0, 1.0, 1.0, 2.0, 2.0, 2.0, 2.0, 1.0, 2.0, 2.0, 2.0, 2.0, 2.0, 1.0, 1.0, 1.0, 1.0, 1.0, 1.0, 2.0, 1.0, 1.0, 1.0, 1.0, 1.0, 1.0, 1.0, 1.0, 1.0, 1.0, 1.0, \n",
            "Mode of Predicted Paths: 1\n",
            "\n"
          ]
        }
      ],
      "source": [
        "X = coords.drop(columns=['path_id', 'danger_metric', 'weather_sensitivity'])\n",
        "y = coords['path_id']\n",
        "\n",
        "X_train, X_test, y_train, y_test = train_test_split(X, y, test_size=0.2, random_state=42)\n",
        "\n",
        "model = RandomForestClassifier(random_state=42)\n",
        "\n",
        "model.fit(X_train, y_train)\n",
        "y_pred = model.predict(X_test)\n",
        "\n",
        "accuracy = accuracy_score(y_test, y_pred)\n",
        "print(\"Accuracy:\", accuracy)\n",
        "\n",
        "n = len(coords['path_id'].unique())\n",
        "\n",
        "for i in range(n):\n",
        "  new_X = path[i-1].drop(columns=['path_id', 'danger_metric', 'weather_sensitivity'])\n",
        "  predicted_path_ids = model.predict(new_X)\n",
        "\n",
        "  print(f\"Predicted Paths IDs for path '{i+1}':\", end=\": \")\n",
        "  for path_id in predicted_path_ids:\n",
        "      print(path_id, end = \", \")\n",
        "  print()\n",
        "  mode_path_id = mode(predicted_path_ids)\n",
        "  print(f\"Mode of Predicted Paths: {mode_path_id:.0f}\", end = \"\\n\\n\")"
      ]
    },
    {
      "cell_type": "markdown",
      "metadata": {
        "id": "z6bqXvQQKdS1"
      },
      "source": [
        "Function to determine the perpendicular distance of current coordinate from the closest point on the predited path<br>The ML model will predict the 'path_id' based on current coordinates. To determine the deviation from the path, the distance between the current coordinate and closest point to that coordinate on the predicted path is calculated."
      ]
    },
    {
      "cell_type": "code",
      "execution_count": 184,
      "metadata": {
        "id": "djMIv0p4VtRE"
      },
      "outputs": [],
      "source": [
        "def distance(current_point, coords_path):\n",
        "    nearest_point_on_line = min(coords_path, key=lambda point: geodesic(point, current_point).meters)\n",
        "    return geodesic(current_point, nearest_point_on_line).meters"
      ]
    },
    {
      "cell_type": "markdown",
      "metadata": {
        "id": "mIDYDOvDLZxG"
      },
      "source": [
        "Assigns colour based on deviation from path<br>In case of incoming data blue colour is used"
      ]
    },
    {
      "cell_type": "code",
      "execution_count": 185,
      "metadata": {
        "id": "fk_HynxhV_GP"
      },
      "outputs": [],
      "source": [
        "def assign_color(distance, flag):\n",
        "  if flag == False:\n",
        "    if distance <= 15:\n",
        "        return 'green'\n",
        "    elif distance >= 25:\n",
        "        return 'red'\n",
        "    else:\n",
        "        return 'orange'\n",
        "  elif flag == True:\n",
        "    return 'blue'"
      ]
    },
    {
      "cell_type": "markdown",
      "metadata": {
        "id": "hfDLj7CyLphU"
      },
      "source": [
        "List of colours who's index represent a specific 'path_id'"
      ]
    },
    {
      "cell_type": "code",
      "execution_count": 186,
      "metadata": {
        "id": "I7ljB5oPWANj"
      },
      "outputs": [],
      "source": [
        "colors = [' ','teal','red','green','purple','black','brown','maroon','navy','olive','aqua']"
      ]
    },
    {
      "cell_type": "markdown",
      "metadata": {
        "id": "SZ8ScfqsL-mQ"
      },
      "source": [
        "Demo of pseudo real time implementation<br>ML model is predicting the path taking the 'testing' dataset as input."
      ]
    },
    {
      "cell_type": "code",
      "execution_count": 219,
      "metadata": {
        "id": "KHGOan2VWCUj"
      },
      "outputs": [],
      "source": [
        "max_lat = max(coords['latitude'])\n",
        "min_lat = min(coords['latitude'])\n",
        "min_lon = min(coords['longitude'])\n",
        "max_lon = max(coords['longitude'])\n",
        "\n",
        "flag = False\n",
        "\n",
        "l = len(path)\n",
        "for j in range(l):\n",
        "  m = folium.Map()\n",
        "  input_coords = []\n",
        "  n = len(path[j]) - 1\n",
        "  for i in range(0, n, 2):\n",
        "    input_data =path[j].iloc[[i]].drop(columns=['path_id', 'danger_metric', 'weather_sensitivity'])\n",
        "    predicted_path_ids = model.predict(input_data)\n",
        "    prediction = int(predicted_path_ids[0])\n",
        "\n",
        "    lat = input_data['longitude'].values[0]\n",
        "    lon = input_data['latitude'].values[0]\n",
        "    input_coords.append((lon,lat))\n",
        "\n",
        "    coords_path = list(zip(path[j]['latitude'],path[j]['longitude']))\n",
        "    folium.PolyLine(locations=coords_path, color='blue', weight=2.5, opacity=0.4).add_to(m)\n",
        "\n",
        "    input_path = input_coords\n",
        "    folium.PolyLine(locations=input_path, color=colors[prediction], weight=3, opacity=0.8).add_to(m)\n",
        "\n",
        "    current_point = (input_data['latitude'].values[-1],input_data['longitude'].values[-1])\n",
        "    deviation = distance(current_point, coords_path)\n",
        "\n",
        "    color = assign_color(deviation,flag)\n",
        "    folium.Marker(location=current_point,\n",
        "                  popup=f\"Deviation: {deviation*1000:.2f} m\\nPath_id: {prediction}\",\n",
        "                  icon=folium.Icon(color=color)).add_to(m)\n",
        "\n",
        "    print(f\"Predicted Path_id: {prediction}\")\n",
        "    print(f\"True Path_id: {j+1}\")\n",
        "    m.fit_bounds([(min_lat, min_lon), (max_lat, max_lon)])\n",
        "    display(m)\n",
        "    if i != n:\n",
        "          children_copy = list(m._children.values())\n",
        "          for child in children_copy:\n",
        "              if isinstance(child, folium.features.PolyLine):\n",
        "                  m._children.pop(child.get_name())\n",
        "    if i == n:\n",
        "      del m\n",
        "    # time.sleep(1)\n"
      ]
    },
    {
      "cell_type": "markdown",
      "source": [
        "# Rule based voice assistant"
      ],
      "metadata": {
        "id": "WpEadon3ooBG"
      }
    },
    {
      "cell_type": "code",
      "source": [
        "!pip install gtts"
      ],
      "metadata": {
        "id": "8ljU25r_nBEy",
        "outputId": "ff023494-307d-4178-caf1-a7e98fc6abed",
        "colab": {
          "base_uri": "https://localhost:8080/"
        }
      },
      "execution_count": 188,
      "outputs": [
        {
          "output_type": "stream",
          "name": "stdout",
          "text": [
            "Requirement already satisfied: gtts in /usr/local/lib/python3.10/dist-packages (2.5.2)\n",
            "Requirement already satisfied: requests<3,>=2.27 in /usr/local/lib/python3.10/dist-packages (from gtts) (2.31.0)\n",
            "Requirement already satisfied: click<8.2,>=7.1 in /usr/local/lib/python3.10/dist-packages (from gtts) (8.1.7)\n",
            "Requirement already satisfied: charset-normalizer<4,>=2 in /usr/local/lib/python3.10/dist-packages (from requests<3,>=2.27->gtts) (3.3.2)\n",
            "Requirement already satisfied: idna<4,>=2.5 in /usr/local/lib/python3.10/dist-packages (from requests<3,>=2.27->gtts) (3.7)\n",
            "Requirement already satisfied: urllib3<3,>=1.21.1 in /usr/local/lib/python3.10/dist-packages (from requests<3,>=2.27->gtts) (2.0.7)\n",
            "Requirement already satisfied: certifi>=2017.4.17 in /usr/local/lib/python3.10/dist-packages (from requests<3,>=2.27->gtts) (2024.7.4)\n"
          ]
        }
      ]
    },
    {
      "cell_type": "markdown",
      "source": [
        "[Reference](https://stackoverflow.com/questions/57563060/how-to-do-text-to-speech-conversion-in-google-colab#:~:text=from%20gtts%20import%20gTTS%20%23Import,converted%20to%20speech%20as%20a%20.)"
      ],
      "metadata": {
        "id": "GDWH2cE5ngu-"
      }
    },
    {
      "cell_type": "code",
      "source": [
        "from gtts import gTTS\n",
        "from IPython.display import Audio, display\n",
        "\n",
        "tts = gTTS(\"You are taking an unknown path, are you sure you want to continue? \")\n",
        "tts.save('unknow_path.wav')\n"
      ],
      "metadata": {
        "id": "nKAAeZkym4pO"
      },
      "execution_count": 189,
      "outputs": []
    },
    {
      "cell_type": "code",
      "source": [
        "# !rm temp.wav"
      ],
      "metadata": {
        "id": "bPLzKoQsqWzo"
      },
      "execution_count": 190,
      "outputs": []
    },
    {
      "cell_type": "markdown",
      "source": [
        "# Adding an unexplored path to the dataset"
      ],
      "metadata": {
        "id": "TxycpYkEJJ2m"
      }
    },
    {
      "cell_type": "markdown",
      "metadata": {
        "id": "7Byx7rCuMdC5"
      },
      "source": [
        "New path is included to check for devaition from path leading to addition of path to data base"
      ]
    },
    {
      "cell_type": "code",
      "execution_count": 191,
      "metadata": {
        "id": "ESq6AABTWHQk"
      },
      "outputs": [],
      "source": [
        "df = pd.read_csv(\"new-path.csv\")"
      ]
    },
    {
      "cell_type": "markdown",
      "metadata": {
        "id": "WRwPC-poMqVL"
      },
      "source": [
        "Visualization of new path"
      ]
    },
    {
      "cell_type": "code",
      "execution_count": 220,
      "metadata": {
        "id": "cRXhYO7AWSWw"
      },
      "outputs": [],
      "source": [
        "max_lon = max(df['longitude'])\n",
        "min_lon = min(df['longitude'])\n",
        "min_lat = min(df['latitude'])\n",
        "max_lat = max(df['latitude'])\n",
        "\n",
        "m = folium.Map()\n",
        "gps_decoy_path = list(zip(df['latitude'], df['longitude']))\n",
        "folium.PolyLine(locations=gps_decoy_path, color='red', weight=2.5, opacity=0.8).add_to(m)\n",
        "m.fit_bounds([(min_lat, min_lon), (max_lat, max_lon)])\n",
        "m"
      ]
    },
    {
      "cell_type": "markdown",
      "metadata": {
        "id": "HjCkyk1nMv2M"
      },
      "source": [
        "Model is executed with coordinates from the new path as input and a prediction is made along with deviation analysis.<br>In case of increasing deviation in large amounts the model user is prompted regarding a possibility of a new path being taken.<br>If the user allows the path it will be added to the database and model will be retrained with the new path."
      ]
    },
    {
      "cell_type": "code",
      "execution_count": 221,
      "metadata": {
        "id": "n5VG6t7sWT2g"
      },
      "outputs": [],
      "source": [
        "max_lat = max(df['latitude'])\n",
        "min_lat = min(df['latitude'])\n",
        "min_lon = min(df['longitude'])\n",
        "max_lon = max(df['longitude'])\n",
        "\n",
        "flag = False\n",
        "red_count = 0\n",
        "\n",
        "m = folium.Map()\n",
        "input_coords = []\n",
        "\n",
        "for i in range(len(df)):\n",
        "  lat = df['latitude'][i]\n",
        "  lon = df['longitude'][i]\n",
        "  input_coords.append((lat,lon))\n",
        "\n",
        "  predicted_path_ids = model.predict((input_coords))\n",
        "  prediction = int(predicted_path_ids[0])\n",
        "  print(prediction)\n",
        "  coords_path = list(zip(path[prediction-1]['latitude'], path[prediction-1]['longitude']))\n",
        "  folium.PolyLine(locations=coords_path, color='blue', weight=2.5, opacity=0.4).add_to(m)\n",
        "\n",
        "  folium.PolyLine(locations=input_coords, color=colors[prediction], weight=2.5, opacity=0.8).add_to(m)\n",
        "\n",
        "  current_point = (lat,lon)\n",
        "  deviation = distance(current_point, coords_path)\n",
        "  color = assign_color(deviation, flag)\n",
        "\n",
        "  folium.Marker(location=current_point,\n",
        "              popup=f\"Deviation: {deviation:.2f} m\\nPath_id: {prediction}\",\n",
        "              icon=folium.Icon(color=color)).add_to(m)\n",
        "\n",
        "  print(f\"Predicted Path_id: {prediction}\")\n",
        "\n",
        "  m.fit_bounds([(min_lat, min_lon), (max_lat, max_lon)])\n",
        "  display(m)\n",
        "  if color == 'red' and flag == False:\n",
        "    if prev_deviation is not None and deviation > prev_deviation:\n",
        "      red_count += 1\n",
        "      if red_count >= 2:\n",
        "        sound_file = 'unknow_path.wav'\n",
        "        display(Audio(sound_file, autoplay=True))\n",
        "        user_input = input(\"You are taking an unknown path, are you sure you want to continue? \")\n",
        "        if user_input.lower() == 'y':\n",
        "          flag = True\n",
        "        else:\n",
        "          break\n",
        "    else:\n",
        "          red_count = 0\n",
        "\n",
        "  prev_deviation = deviation\n",
        "  # time.sleep(1)"
      ]
    },
    {
      "cell_type": "markdown",
      "metadata": {
        "id": "dWmWB47uNWOE"
      },
      "source": [
        "The coordinate values of the new path are stored in a list by the name of 'input_coords' which is converted to a dataframe to be included in the list of paths.<br>'path_id' values is set accordingly."
      ]
    },
    {
      "cell_type": "code",
      "execution_count": 194,
      "metadata": {
        "id": "HQ1493JCWWn8"
      },
      "outputs": [],
      "source": [
        "input_coords_df = pd.DataFrame(input_coords, columns=['latitude', 'longitude'])\n",
        "input_coords_df['path_id'] = len(path)+1\n",
        "input_coords_df['danger_metric'] = 10\n",
        "input_coords_df['weather_sensitivity'] = 10"
      ]
    },
    {
      "cell_type": "code",
      "execution_count": 195,
      "metadata": {
        "colab": {
          "base_uri": "https://localhost:8080/",
          "height": 206
        },
        "id": "qijB1SGNWg-8",
        "outputId": "4a0b57fb-6ce2-44e3-b175-4d7990f5ad19"
      },
      "outputs": [
        {
          "output_type": "execute_result",
          "data": {
            "text/plain": [
              "     latitude  longitude  path_id  danger_metric  weather_sensitivity\n",
              "78  12.820981  80.041335        3             10                   10\n",
              "79  12.820597  80.041217        3             10                   10\n",
              "80  12.820597  80.041217        3             10                   10\n",
              "81  12.819331  80.040006        3             10                   10\n",
              "82  12.819477  80.039353        3             10                   10"
            ],
            "text/html": [
              "\n",
              "  <div id=\"df-a78523e8-cf35-4672-ab0d-100a28c06430\" class=\"colab-df-container\">\n",
              "    <div>\n",
              "<style scoped>\n",
              "    .dataframe tbody tr th:only-of-type {\n",
              "        vertical-align: middle;\n",
              "    }\n",
              "\n",
              "    .dataframe tbody tr th {\n",
              "        vertical-align: top;\n",
              "    }\n",
              "\n",
              "    .dataframe thead th {\n",
              "        text-align: right;\n",
              "    }\n",
              "</style>\n",
              "<table border=\"1\" class=\"dataframe\">\n",
              "  <thead>\n",
              "    <tr style=\"text-align: right;\">\n",
              "      <th></th>\n",
              "      <th>latitude</th>\n",
              "      <th>longitude</th>\n",
              "      <th>path_id</th>\n",
              "      <th>danger_metric</th>\n",
              "      <th>weather_sensitivity</th>\n",
              "    </tr>\n",
              "  </thead>\n",
              "  <tbody>\n",
              "    <tr>\n",
              "      <th>78</th>\n",
              "      <td>12.820981</td>\n",
              "      <td>80.041335</td>\n",
              "      <td>3</td>\n",
              "      <td>10</td>\n",
              "      <td>10</td>\n",
              "    </tr>\n",
              "    <tr>\n",
              "      <th>79</th>\n",
              "      <td>12.820597</td>\n",
              "      <td>80.041217</td>\n",
              "      <td>3</td>\n",
              "      <td>10</td>\n",
              "      <td>10</td>\n",
              "    </tr>\n",
              "    <tr>\n",
              "      <th>80</th>\n",
              "      <td>12.820597</td>\n",
              "      <td>80.041217</td>\n",
              "      <td>3</td>\n",
              "      <td>10</td>\n",
              "      <td>10</td>\n",
              "    </tr>\n",
              "    <tr>\n",
              "      <th>81</th>\n",
              "      <td>12.819331</td>\n",
              "      <td>80.040006</td>\n",
              "      <td>3</td>\n",
              "      <td>10</td>\n",
              "      <td>10</td>\n",
              "    </tr>\n",
              "    <tr>\n",
              "      <th>82</th>\n",
              "      <td>12.819477</td>\n",
              "      <td>80.039353</td>\n",
              "      <td>3</td>\n",
              "      <td>10</td>\n",
              "      <td>10</td>\n",
              "    </tr>\n",
              "  </tbody>\n",
              "</table>\n",
              "</div>\n",
              "    <div class=\"colab-df-buttons\">\n",
              "\n",
              "  <div class=\"colab-df-container\">\n",
              "    <button class=\"colab-df-convert\" onclick=\"convertToInteractive('df-a78523e8-cf35-4672-ab0d-100a28c06430')\"\n",
              "            title=\"Convert this dataframe to an interactive table.\"\n",
              "            style=\"display:none;\">\n",
              "\n",
              "  <svg xmlns=\"http://www.w3.org/2000/svg\" height=\"24px\" viewBox=\"0 -960 960 960\">\n",
              "    <path d=\"M120-120v-720h720v720H120Zm60-500h600v-160H180v160Zm220 220h160v-160H400v160Zm0 220h160v-160H400v160ZM180-400h160v-160H180v160Zm440 0h160v-160H620v160ZM180-180h160v-160H180v160Zm440 0h160v-160H620v160Z\"/>\n",
              "  </svg>\n",
              "    </button>\n",
              "\n",
              "  <style>\n",
              "    .colab-df-container {\n",
              "      display:flex;\n",
              "      gap: 12px;\n",
              "    }\n",
              "\n",
              "    .colab-df-convert {\n",
              "      background-color: #E8F0FE;\n",
              "      border: none;\n",
              "      border-radius: 50%;\n",
              "      cursor: pointer;\n",
              "      display: none;\n",
              "      fill: #1967D2;\n",
              "      height: 32px;\n",
              "      padding: 0 0 0 0;\n",
              "      width: 32px;\n",
              "    }\n",
              "\n",
              "    .colab-df-convert:hover {\n",
              "      background-color: #E2EBFA;\n",
              "      box-shadow: 0px 1px 2px rgba(60, 64, 67, 0.3), 0px 1px 3px 1px rgba(60, 64, 67, 0.15);\n",
              "      fill: #174EA6;\n",
              "    }\n",
              "\n",
              "    .colab-df-buttons div {\n",
              "      margin-bottom: 4px;\n",
              "    }\n",
              "\n",
              "    [theme=dark] .colab-df-convert {\n",
              "      background-color: #3B4455;\n",
              "      fill: #D2E3FC;\n",
              "    }\n",
              "\n",
              "    [theme=dark] .colab-df-convert:hover {\n",
              "      background-color: #434B5C;\n",
              "      box-shadow: 0px 1px 3px 1px rgba(0, 0, 0, 0.15);\n",
              "      filter: drop-shadow(0px 1px 2px rgba(0, 0, 0, 0.3));\n",
              "      fill: #FFFFFF;\n",
              "    }\n",
              "  </style>\n",
              "\n",
              "    <script>\n",
              "      const buttonEl =\n",
              "        document.querySelector('#df-a78523e8-cf35-4672-ab0d-100a28c06430 button.colab-df-convert');\n",
              "      buttonEl.style.display =\n",
              "        google.colab.kernel.accessAllowed ? 'block' : 'none';\n",
              "\n",
              "      async function convertToInteractive(key) {\n",
              "        const element = document.querySelector('#df-a78523e8-cf35-4672-ab0d-100a28c06430');\n",
              "        const dataTable =\n",
              "          await google.colab.kernel.invokeFunction('convertToInteractive',\n",
              "                                                    [key], {});\n",
              "        if (!dataTable) return;\n",
              "\n",
              "        const docLinkHtml = 'Like what you see? Visit the ' +\n",
              "          '<a target=\"_blank\" href=https://colab.research.google.com/notebooks/data_table.ipynb>data table notebook</a>'\n",
              "          + ' to learn more about interactive tables.';\n",
              "        element.innerHTML = '';\n",
              "        dataTable['output_type'] = 'display_data';\n",
              "        await google.colab.output.renderOutput(dataTable, element);\n",
              "        const docLink = document.createElement('div');\n",
              "        docLink.innerHTML = docLinkHtml;\n",
              "        element.appendChild(docLink);\n",
              "      }\n",
              "    </script>\n",
              "  </div>\n",
              "\n",
              "\n",
              "<div id=\"df-a5324066-afcf-416f-b0c1-8a568f520d99\">\n",
              "  <button class=\"colab-df-quickchart\" onclick=\"quickchart('df-a5324066-afcf-416f-b0c1-8a568f520d99')\"\n",
              "            title=\"Suggest charts\"\n",
              "            style=\"display:none;\">\n",
              "\n",
              "<svg xmlns=\"http://www.w3.org/2000/svg\" height=\"24px\"viewBox=\"0 0 24 24\"\n",
              "     width=\"24px\">\n",
              "    <g>\n",
              "        <path d=\"M19 3H5c-1.1 0-2 .9-2 2v14c0 1.1.9 2 2 2h14c1.1 0 2-.9 2-2V5c0-1.1-.9-2-2-2zM9 17H7v-7h2v7zm4 0h-2V7h2v10zm4 0h-2v-4h2v4z\"/>\n",
              "    </g>\n",
              "</svg>\n",
              "  </button>\n",
              "\n",
              "<style>\n",
              "  .colab-df-quickchart {\n",
              "      --bg-color: #E8F0FE;\n",
              "      --fill-color: #1967D2;\n",
              "      --hover-bg-color: #E2EBFA;\n",
              "      --hover-fill-color: #174EA6;\n",
              "      --disabled-fill-color: #AAA;\n",
              "      --disabled-bg-color: #DDD;\n",
              "  }\n",
              "\n",
              "  [theme=dark] .colab-df-quickchart {\n",
              "      --bg-color: #3B4455;\n",
              "      --fill-color: #D2E3FC;\n",
              "      --hover-bg-color: #434B5C;\n",
              "      --hover-fill-color: #FFFFFF;\n",
              "      --disabled-bg-color: #3B4455;\n",
              "      --disabled-fill-color: #666;\n",
              "  }\n",
              "\n",
              "  .colab-df-quickchart {\n",
              "    background-color: var(--bg-color);\n",
              "    border: none;\n",
              "    border-radius: 50%;\n",
              "    cursor: pointer;\n",
              "    display: none;\n",
              "    fill: var(--fill-color);\n",
              "    height: 32px;\n",
              "    padding: 0;\n",
              "    width: 32px;\n",
              "  }\n",
              "\n",
              "  .colab-df-quickchart:hover {\n",
              "    background-color: var(--hover-bg-color);\n",
              "    box-shadow: 0 1px 2px rgba(60, 64, 67, 0.3), 0 1px 3px 1px rgba(60, 64, 67, 0.15);\n",
              "    fill: var(--button-hover-fill-color);\n",
              "  }\n",
              "\n",
              "  .colab-df-quickchart-complete:disabled,\n",
              "  .colab-df-quickchart-complete:disabled:hover {\n",
              "    background-color: var(--disabled-bg-color);\n",
              "    fill: var(--disabled-fill-color);\n",
              "    box-shadow: none;\n",
              "  }\n",
              "\n",
              "  .colab-df-spinner {\n",
              "    border: 2px solid var(--fill-color);\n",
              "    border-color: transparent;\n",
              "    border-bottom-color: var(--fill-color);\n",
              "    animation:\n",
              "      spin 1s steps(1) infinite;\n",
              "  }\n",
              "\n",
              "  @keyframes spin {\n",
              "    0% {\n",
              "      border-color: transparent;\n",
              "      border-bottom-color: var(--fill-color);\n",
              "      border-left-color: var(--fill-color);\n",
              "    }\n",
              "    20% {\n",
              "      border-color: transparent;\n",
              "      border-left-color: var(--fill-color);\n",
              "      border-top-color: var(--fill-color);\n",
              "    }\n",
              "    30% {\n",
              "      border-color: transparent;\n",
              "      border-left-color: var(--fill-color);\n",
              "      border-top-color: var(--fill-color);\n",
              "      border-right-color: var(--fill-color);\n",
              "    }\n",
              "    40% {\n",
              "      border-color: transparent;\n",
              "      border-right-color: var(--fill-color);\n",
              "      border-top-color: var(--fill-color);\n",
              "    }\n",
              "    60% {\n",
              "      border-color: transparent;\n",
              "      border-right-color: var(--fill-color);\n",
              "    }\n",
              "    80% {\n",
              "      border-color: transparent;\n",
              "      border-right-color: var(--fill-color);\n",
              "      border-bottom-color: var(--fill-color);\n",
              "    }\n",
              "    90% {\n",
              "      border-color: transparent;\n",
              "      border-bottom-color: var(--fill-color);\n",
              "    }\n",
              "  }\n",
              "</style>\n",
              "\n",
              "  <script>\n",
              "    async function quickchart(key) {\n",
              "      const quickchartButtonEl =\n",
              "        document.querySelector('#' + key + ' button');\n",
              "      quickchartButtonEl.disabled = true;  // To prevent multiple clicks.\n",
              "      quickchartButtonEl.classList.add('colab-df-spinner');\n",
              "      try {\n",
              "        const charts = await google.colab.kernel.invokeFunction(\n",
              "            'suggestCharts', [key], {});\n",
              "      } catch (error) {\n",
              "        console.error('Error during call to suggestCharts:', error);\n",
              "      }\n",
              "      quickchartButtonEl.classList.remove('colab-df-spinner');\n",
              "      quickchartButtonEl.classList.add('colab-df-quickchart-complete');\n",
              "    }\n",
              "    (() => {\n",
              "      let quickchartButtonEl =\n",
              "        document.querySelector('#df-a5324066-afcf-416f-b0c1-8a568f520d99 button');\n",
              "      quickchartButtonEl.style.display =\n",
              "        google.colab.kernel.accessAllowed ? 'block' : 'none';\n",
              "    })();\n",
              "  </script>\n",
              "</div>\n",
              "\n",
              "    </div>\n",
              "  </div>\n"
            ],
            "application/vnd.google.colaboratory.intrinsic+json": {
              "type": "dataframe",
              "summary": "{\n  \"name\": \"input_coords_df\",\n  \"rows\": 5,\n  \"fields\": [\n    {\n      \"column\": \"latitude\",\n      \"properties\": {\n        \"dtype\": \"number\",\n        \"std\": 0.000741964985009125,\n        \"min\": 12.81933122,\n        \"max\": 12.82098059,\n        \"num_unique_values\": 4,\n        \"samples\": [\n          12.82059702,\n          12.81947698,\n          12.82098059\n        ],\n        \"semantic_type\": \"\",\n        \"description\": \"\"\n      }\n    },\n    {\n      \"column\": \"longitude\",\n      \"properties\": {\n        \"dtype\": \"number\",\n        \"std\": 0.0008956137724023888,\n        \"min\": 80.03935272,\n        \"max\": 80.04133535,\n        \"num_unique_values\": 4,\n        \"samples\": [\n          80.04121733,\n          80.03935272,\n          80.04133535\n        ],\n        \"semantic_type\": \"\",\n        \"description\": \"\"\n      }\n    },\n    {\n      \"column\": \"path_id\",\n      \"properties\": {\n        \"dtype\": \"number\",\n        \"std\": 0,\n        \"min\": 3,\n        \"max\": 3,\n        \"num_unique_values\": 1,\n        \"samples\": [\n          3\n        ],\n        \"semantic_type\": \"\",\n        \"description\": \"\"\n      }\n    },\n    {\n      \"column\": \"danger_metric\",\n      \"properties\": {\n        \"dtype\": \"number\",\n        \"std\": 0,\n        \"min\": 10,\n        \"max\": 10,\n        \"num_unique_values\": 1,\n        \"samples\": [\n          10\n        ],\n        \"semantic_type\": \"\",\n        \"description\": \"\"\n      }\n    },\n    {\n      \"column\": \"weather_sensitivity\",\n      \"properties\": {\n        \"dtype\": \"number\",\n        \"std\": 0,\n        \"min\": 10,\n        \"max\": 10,\n        \"num_unique_values\": 1,\n        \"samples\": [\n          10\n        ],\n        \"semantic_type\": \"\",\n        \"description\": \"\"\n      }\n    }\n  ]\n}"
            }
          },
          "metadata": {},
          "execution_count": 195
        }
      ],
      "source": [
        "input_coords_df.tail()"
      ]
    },
    {
      "cell_type": "markdown",
      "metadata": {
        "id": "H7d4KpHiNz0O"
      },
      "source": [
        "Dataframe is appended to the path (i.e a list of dataframes containing coordinate values of each path_id at seperate indexes)"
      ]
    },
    {
      "cell_type": "code",
      "execution_count": 196,
      "metadata": {
        "id": "CYzVXCR_WiKA"
      },
      "outputs": [],
      "source": [
        "path.append(input_coords_df)"
      ]
    },
    {
      "cell_type": "markdown",
      "metadata": {
        "id": "ZXUvSnBxOG1h"
      },
      "source": [
        "The list of dataframes is concatenated into one dataframe 'concat_coords' to retrain the model over the new_path"
      ]
    },
    {
      "cell_type": "code",
      "execution_count": 197,
      "metadata": {
        "id": "B8lE6xpFWnCW"
      },
      "outputs": [],
      "source": [
        "concat_coords = pd.concat(path, ignore_index=True)"
      ]
    },
    {
      "cell_type": "markdown",
      "metadata": {
        "id": "T4NyjGFPObBX"
      },
      "source": [
        "Model is trained in the same manner as above with concat_coords dataframe"
      ]
    },
    {
      "cell_type": "code",
      "execution_count": 198,
      "metadata": {
        "colab": {
          "base_uri": "https://localhost:8080/"
        },
        "id": "1bCLycwyXD-A",
        "outputId": "ed4dbf35-0bbb-4d3b-91ec-a7be708aee7f"
      },
      "outputs": [
        {
          "output_type": "stream",
          "name": "stdout",
          "text": [
            "Accuracy: 0.2972972972972973\n",
            "Predicted Paths IDs for path '1':: 1.0, 2.0, 1.0, 1.0, 1.0, 2.0, 2.0, 2.0, 1.0, 2.0, 2.0, 1.0, 1.0, 1.0, 2.0, 2.0, 2.0, 1.0, 2.0, 2.0, 2.0, 1.0, 1.0, 1.0, 1.0, 1.0, 1.0, 1.0, 1.0, 3.0, 3.0, 1.0, 1.0, 1.0, 1.0, 1.0, 1.0, 1.0, 1.0, 1.0, 1.0, 1.0, 1.0, \n",
            "Mode of Predicted Paths: 1\n",
            "\n",
            "Predicted Paths IDs for path '2':: 1.0, 2.0, 1.0, 1.0, 1.0, 2.0, 2.0, 2.0, 1.0, 2.0, 2.0, 1.0, 1.0, 1.0, 2.0, 2.0, 2.0, 1.0, 2.0, 2.0, 2.0, 1.0, 1.0, 1.0, 1.0, 3.0, 3.0, 2.0, 2.0, 2.0, 2.0, 2.0, 2.0, 2.0, 2.0, 2.0, 2.0, 2.0, 2.0, 2.0, 2.0, 2.0, 2.0, 2.0, 2.0, 2.0, 2.0, 2.0, 2.0, 2.0, 2.0, 2.0, 3.0, 3.0, 1.0, 3.0, \n",
            "Mode of Predicted Paths: 2\n",
            "\n",
            "Predicted Paths IDs for path '3':: 3.0, 3.0, 3.0, 3.0, 3.0, 3.0, 3.0, 3.0, 3.0, 3.0, 3.0, 3.0, 3.0, 3.0, 3.0, 3.0, 3.0, 3.0, 3.0, 3.0, 3.0, 3.0, 3.0, 1.0, 1.0, 3.0, 3.0, 3.0, 3.0, 3.0, 3.0, 3.0, 3.0, 3.0, 3.0, 3.0, 3.0, 3.0, 3.0, 3.0, 3.0, 3.0, 3.0, 3.0, 1.0, 1.0, 3.0, 2.0, 3.0, 3.0, 3.0, 3.0, 3.0, 3.0, 3.0, 1.0, 3.0, 3.0, 3.0, 3.0, 3.0, 2.0, 3.0, 3.0, 3.0, 3.0, 3.0, 3.0, 3.0, 3.0, 3.0, 3.0, 3.0, 3.0, 3.0, 3.0, 3.0, 3.0, 3.0, 3.0, 3.0, 3.0, 3.0, \n",
            "Mode of Predicted Paths: 3\n",
            "\n"
          ]
        }
      ],
      "source": [
        "X = concat_coords.drop(columns=['path_id', 'danger_metric','weather_sensitivity'])\n",
        "y = concat_coords['path_id']\n",
        "\n",
        "X_train, X_test, y_train, y_test = train_test_split(X, y, test_size=0.2, random_state=42)\n",
        "\n",
        "model = RandomForestClassifier(random_state=42)\n",
        "\n",
        "model.fit(X_train, y_train)\n",
        "y_pred = model.predict(X_test)\n",
        "\n",
        "accuracy = accuracy_score(y_test, y_pred)\n",
        "print(\"Accuracy:\", accuracy)\n",
        "\n",
        "n = len(concat_coords['path_id'].unique())\n",
        "\n",
        "for i in range(n):\n",
        "  new_X = path[i].drop(columns=['path_id', 'danger_metric','weather_sensitivity']).dropna()\n",
        "  predicted_path_ids = model.predict(new_X)\n",
        "\n",
        "  print(f\"Predicted Paths IDs for path '{i+1}':\", end=\": \")\n",
        "  for path_id in predicted_path_ids:\n",
        "      print(path_id, end = \", \")\n",
        "  print()\n",
        "  mode_path_id = mode(predicted_path_ids)\n",
        "  print(f\"Mode of Predicted Paths: {mode_path_id:.0f}\", end = \"\\n\\n\")"
      ]
    },
    {
      "cell_type": "markdown",
      "metadata": {
        "id": "z_7PIpaUOrBu"
      },
      "source": [
        "Model is executed and deviation analysis is conducted over the new path coordinates to verify the functionality of the model after retraining"
      ]
    },
    {
      "cell_type": "code",
      "execution_count": 222,
      "metadata": {
        "id": "bIIuOs5zYXq7"
      },
      "outputs": [],
      "source": [
        "max_lat = max(df['latitude'])\n",
        "min_lat = min(df['latitude'])\n",
        "min_lon = min(df['longitude'])\n",
        "max_lon = max(df['longitude'])\n",
        "\n",
        "flag = False\n",
        "red_count = 0\n",
        "\n",
        "m = folium.Map()\n",
        "input_coords = []\n",
        "\n",
        "for i in range(len(df)):\n",
        "  lat = df['latitude'][i]\n",
        "  lon = df['longitude'][i]\n",
        "  input_coords.append((lon, lat))\n",
        "\n",
        "  predicted_path_ids = model.predict((input_coords))\n",
        "  prediction = int(predicted_path_ids[0])\n",
        "  coords_path = list(zip(path[prediction-1]['latitude'],path[prediction-1]['longitude']))\n",
        "  folium.PolyLine(locations=coords_path, color='blue', weight=2.5, opacity=0.4).add_to(m)\n",
        "\n",
        "  folium.PolyLine(locations=input_coords, color=colors[prediction], weight=2.5, opacity=0.8).add_to(m)\n",
        "\n",
        "  current_point = (lat, lon)\n",
        "  deviation = distance(current_point, coords_path)\n",
        "  color = assign_color(deviation, flag)\n",
        "\n",
        "  folium.Marker(location=current_point,\n",
        "              popup=f\"Deviation: {deviation:.2f} m\\nPath_id: {prediction}\",\n",
        "              icon=folium.Icon(color=color)).add_to(m)\n",
        "\n",
        "  print(f\"Predicted Path_id: {prediction}\")\n",
        "\n",
        "  m.fit_bounds([(min_lat, min_lon), (max_lat, max_lon)])\n",
        "  display(m)\n",
        "\n",
        "  if color == 'red' and flag == False:\n",
        "    if prev_deviation is not None and deviation > prev_deviation:\n",
        "      red_count += 1\n",
        "      if red_count >= 2:\n",
        "        sound_file = 'unknow_path.wav'\n",
        "        display(Audio(sound_file, autoplay=True))\n",
        "        user_input = input(\"You are taking an unknown path, are you sure you want to continue? \")\n",
        "        if user_input.lower() == 'y':\n",
        "          flag = True\n",
        "        else:\n",
        "          break\n",
        "    else:\n",
        "          red_count = 0\n",
        "\n",
        "  prev_deviation = deviation\n",
        "  # time.sleep(1)\n"
      ]
    },
    {
      "cell_type": "markdown",
      "source": [
        "# Path Recommendation based on Weather and Accident proneness\n",
        "\n",
        "formula used : danger = danger_metric * 0.75 + weather_sensitivity * weather_metric * 0.25\n",
        "\n",
        "*weather_metric is determined by real time weather conditions using API calls*"
      ],
      "metadata": {
        "id": "-KDRFDR8Zw1o"
      }
    },
    {
      "cell_type": "code",
      "source": [
        "data = pd.read_csv(\"all_paths.csv\")\n",
        "data.head()"
      ],
      "metadata": {
        "id": "8eqRgd5zcnQl",
        "outputId": "6952f91f-a439-4afd-a717-b17def9ca5dc",
        "colab": {
          "base_uri": "https://localhost:8080/",
          "height": 206
        }
      },
      "execution_count": 200,
      "outputs": [
        {
          "output_type": "execute_result",
          "data": {
            "text/plain": [
              "   latitude   longitude  path_id  danger_metric  weather_sensitivity\n",
              "0  12.819391  80.039350        1              3                    5\n",
              "1  12.819807  80.038250        1              1                    4\n",
              "2  12.820105  80.037061        1              2                    6\n",
              "3  12.819367  80.036577        1              4                    1\n",
              "4  12.818376  80.035731        1              0                    0"
            ],
            "text/html": [
              "\n",
              "  <div id=\"df-a0b89b8e-9b94-425a-866d-85714217a1dd\" class=\"colab-df-container\">\n",
              "    <div>\n",
              "<style scoped>\n",
              "    .dataframe tbody tr th:only-of-type {\n",
              "        vertical-align: middle;\n",
              "    }\n",
              "\n",
              "    .dataframe tbody tr th {\n",
              "        vertical-align: top;\n",
              "    }\n",
              "\n",
              "    .dataframe thead th {\n",
              "        text-align: right;\n",
              "    }\n",
              "</style>\n",
              "<table border=\"1\" class=\"dataframe\">\n",
              "  <thead>\n",
              "    <tr style=\"text-align: right;\">\n",
              "      <th></th>\n",
              "      <th>latitude</th>\n",
              "      <th>longitude</th>\n",
              "      <th>path_id</th>\n",
              "      <th>danger_metric</th>\n",
              "      <th>weather_sensitivity</th>\n",
              "    </tr>\n",
              "  </thead>\n",
              "  <tbody>\n",
              "    <tr>\n",
              "      <th>0</th>\n",
              "      <td>12.819391</td>\n",
              "      <td>80.039350</td>\n",
              "      <td>1</td>\n",
              "      <td>3</td>\n",
              "      <td>5</td>\n",
              "    </tr>\n",
              "    <tr>\n",
              "      <th>1</th>\n",
              "      <td>12.819807</td>\n",
              "      <td>80.038250</td>\n",
              "      <td>1</td>\n",
              "      <td>1</td>\n",
              "      <td>4</td>\n",
              "    </tr>\n",
              "    <tr>\n",
              "      <th>2</th>\n",
              "      <td>12.820105</td>\n",
              "      <td>80.037061</td>\n",
              "      <td>1</td>\n",
              "      <td>2</td>\n",
              "      <td>6</td>\n",
              "    </tr>\n",
              "    <tr>\n",
              "      <th>3</th>\n",
              "      <td>12.819367</td>\n",
              "      <td>80.036577</td>\n",
              "      <td>1</td>\n",
              "      <td>4</td>\n",
              "      <td>1</td>\n",
              "    </tr>\n",
              "    <tr>\n",
              "      <th>4</th>\n",
              "      <td>12.818376</td>\n",
              "      <td>80.035731</td>\n",
              "      <td>1</td>\n",
              "      <td>0</td>\n",
              "      <td>0</td>\n",
              "    </tr>\n",
              "  </tbody>\n",
              "</table>\n",
              "</div>\n",
              "    <div class=\"colab-df-buttons\">\n",
              "\n",
              "  <div class=\"colab-df-container\">\n",
              "    <button class=\"colab-df-convert\" onclick=\"convertToInteractive('df-a0b89b8e-9b94-425a-866d-85714217a1dd')\"\n",
              "            title=\"Convert this dataframe to an interactive table.\"\n",
              "            style=\"display:none;\">\n",
              "\n",
              "  <svg xmlns=\"http://www.w3.org/2000/svg\" height=\"24px\" viewBox=\"0 -960 960 960\">\n",
              "    <path d=\"M120-120v-720h720v720H120Zm60-500h600v-160H180v160Zm220 220h160v-160H400v160Zm0 220h160v-160H400v160ZM180-400h160v-160H180v160Zm440 0h160v-160H620v160ZM180-180h160v-160H180v160Zm440 0h160v-160H620v160Z\"/>\n",
              "  </svg>\n",
              "    </button>\n",
              "\n",
              "  <style>\n",
              "    .colab-df-container {\n",
              "      display:flex;\n",
              "      gap: 12px;\n",
              "    }\n",
              "\n",
              "    .colab-df-convert {\n",
              "      background-color: #E8F0FE;\n",
              "      border: none;\n",
              "      border-radius: 50%;\n",
              "      cursor: pointer;\n",
              "      display: none;\n",
              "      fill: #1967D2;\n",
              "      height: 32px;\n",
              "      padding: 0 0 0 0;\n",
              "      width: 32px;\n",
              "    }\n",
              "\n",
              "    .colab-df-convert:hover {\n",
              "      background-color: #E2EBFA;\n",
              "      box-shadow: 0px 1px 2px rgba(60, 64, 67, 0.3), 0px 1px 3px 1px rgba(60, 64, 67, 0.15);\n",
              "      fill: #174EA6;\n",
              "    }\n",
              "\n",
              "    .colab-df-buttons div {\n",
              "      margin-bottom: 4px;\n",
              "    }\n",
              "\n",
              "    [theme=dark] .colab-df-convert {\n",
              "      background-color: #3B4455;\n",
              "      fill: #D2E3FC;\n",
              "    }\n",
              "\n",
              "    [theme=dark] .colab-df-convert:hover {\n",
              "      background-color: #434B5C;\n",
              "      box-shadow: 0px 1px 3px 1px rgba(0, 0, 0, 0.15);\n",
              "      filter: drop-shadow(0px 1px 2px rgba(0, 0, 0, 0.3));\n",
              "      fill: #FFFFFF;\n",
              "    }\n",
              "  </style>\n",
              "\n",
              "    <script>\n",
              "      const buttonEl =\n",
              "        document.querySelector('#df-a0b89b8e-9b94-425a-866d-85714217a1dd button.colab-df-convert');\n",
              "      buttonEl.style.display =\n",
              "        google.colab.kernel.accessAllowed ? 'block' : 'none';\n",
              "\n",
              "      async function convertToInteractive(key) {\n",
              "        const element = document.querySelector('#df-a0b89b8e-9b94-425a-866d-85714217a1dd');\n",
              "        const dataTable =\n",
              "          await google.colab.kernel.invokeFunction('convertToInteractive',\n",
              "                                                    [key], {});\n",
              "        if (!dataTable) return;\n",
              "\n",
              "        const docLinkHtml = 'Like what you see? Visit the ' +\n",
              "          '<a target=\"_blank\" href=https://colab.research.google.com/notebooks/data_table.ipynb>data table notebook</a>'\n",
              "          + ' to learn more about interactive tables.';\n",
              "        element.innerHTML = '';\n",
              "        dataTable['output_type'] = 'display_data';\n",
              "        await google.colab.output.renderOutput(dataTable, element);\n",
              "        const docLink = document.createElement('div');\n",
              "        docLink.innerHTML = docLinkHtml;\n",
              "        element.appendChild(docLink);\n",
              "      }\n",
              "    </script>\n",
              "  </div>\n",
              "\n",
              "\n",
              "<div id=\"df-edcb2b22-7346-45dc-81e4-0a328ab29e51\">\n",
              "  <button class=\"colab-df-quickchart\" onclick=\"quickchart('df-edcb2b22-7346-45dc-81e4-0a328ab29e51')\"\n",
              "            title=\"Suggest charts\"\n",
              "            style=\"display:none;\">\n",
              "\n",
              "<svg xmlns=\"http://www.w3.org/2000/svg\" height=\"24px\"viewBox=\"0 0 24 24\"\n",
              "     width=\"24px\">\n",
              "    <g>\n",
              "        <path d=\"M19 3H5c-1.1 0-2 .9-2 2v14c0 1.1.9 2 2 2h14c1.1 0 2-.9 2-2V5c0-1.1-.9-2-2-2zM9 17H7v-7h2v7zm4 0h-2V7h2v10zm4 0h-2v-4h2v4z\"/>\n",
              "    </g>\n",
              "</svg>\n",
              "  </button>\n",
              "\n",
              "<style>\n",
              "  .colab-df-quickchart {\n",
              "      --bg-color: #E8F0FE;\n",
              "      --fill-color: #1967D2;\n",
              "      --hover-bg-color: #E2EBFA;\n",
              "      --hover-fill-color: #174EA6;\n",
              "      --disabled-fill-color: #AAA;\n",
              "      --disabled-bg-color: #DDD;\n",
              "  }\n",
              "\n",
              "  [theme=dark] .colab-df-quickchart {\n",
              "      --bg-color: #3B4455;\n",
              "      --fill-color: #D2E3FC;\n",
              "      --hover-bg-color: #434B5C;\n",
              "      --hover-fill-color: #FFFFFF;\n",
              "      --disabled-bg-color: #3B4455;\n",
              "      --disabled-fill-color: #666;\n",
              "  }\n",
              "\n",
              "  .colab-df-quickchart {\n",
              "    background-color: var(--bg-color);\n",
              "    border: none;\n",
              "    border-radius: 50%;\n",
              "    cursor: pointer;\n",
              "    display: none;\n",
              "    fill: var(--fill-color);\n",
              "    height: 32px;\n",
              "    padding: 0;\n",
              "    width: 32px;\n",
              "  }\n",
              "\n",
              "  .colab-df-quickchart:hover {\n",
              "    background-color: var(--hover-bg-color);\n",
              "    box-shadow: 0 1px 2px rgba(60, 64, 67, 0.3), 0 1px 3px 1px rgba(60, 64, 67, 0.15);\n",
              "    fill: var(--button-hover-fill-color);\n",
              "  }\n",
              "\n",
              "  .colab-df-quickchart-complete:disabled,\n",
              "  .colab-df-quickchart-complete:disabled:hover {\n",
              "    background-color: var(--disabled-bg-color);\n",
              "    fill: var(--disabled-fill-color);\n",
              "    box-shadow: none;\n",
              "  }\n",
              "\n",
              "  .colab-df-spinner {\n",
              "    border: 2px solid var(--fill-color);\n",
              "    border-color: transparent;\n",
              "    border-bottom-color: var(--fill-color);\n",
              "    animation:\n",
              "      spin 1s steps(1) infinite;\n",
              "  }\n",
              "\n",
              "  @keyframes spin {\n",
              "    0% {\n",
              "      border-color: transparent;\n",
              "      border-bottom-color: var(--fill-color);\n",
              "      border-left-color: var(--fill-color);\n",
              "    }\n",
              "    20% {\n",
              "      border-color: transparent;\n",
              "      border-left-color: var(--fill-color);\n",
              "      border-top-color: var(--fill-color);\n",
              "    }\n",
              "    30% {\n",
              "      border-color: transparent;\n",
              "      border-left-color: var(--fill-color);\n",
              "      border-top-color: var(--fill-color);\n",
              "      border-right-color: var(--fill-color);\n",
              "    }\n",
              "    40% {\n",
              "      border-color: transparent;\n",
              "      border-right-color: var(--fill-color);\n",
              "      border-top-color: var(--fill-color);\n",
              "    }\n",
              "    60% {\n",
              "      border-color: transparent;\n",
              "      border-right-color: var(--fill-color);\n",
              "    }\n",
              "    80% {\n",
              "      border-color: transparent;\n",
              "      border-right-color: var(--fill-color);\n",
              "      border-bottom-color: var(--fill-color);\n",
              "    }\n",
              "    90% {\n",
              "      border-color: transparent;\n",
              "      border-bottom-color: var(--fill-color);\n",
              "    }\n",
              "  }\n",
              "</style>\n",
              "\n",
              "  <script>\n",
              "    async function quickchart(key) {\n",
              "      const quickchartButtonEl =\n",
              "        document.querySelector('#' + key + ' button');\n",
              "      quickchartButtonEl.disabled = true;  // To prevent multiple clicks.\n",
              "      quickchartButtonEl.classList.add('colab-df-spinner');\n",
              "      try {\n",
              "        const charts = await google.colab.kernel.invokeFunction(\n",
              "            'suggestCharts', [key], {});\n",
              "      } catch (error) {\n",
              "        console.error('Error during call to suggestCharts:', error);\n",
              "      }\n",
              "      quickchartButtonEl.classList.remove('colab-df-spinner');\n",
              "      quickchartButtonEl.classList.add('colab-df-quickchart-complete');\n",
              "    }\n",
              "    (() => {\n",
              "      let quickchartButtonEl =\n",
              "        document.querySelector('#df-edcb2b22-7346-45dc-81e4-0a328ab29e51 button');\n",
              "      quickchartButtonEl.style.display =\n",
              "        google.colab.kernel.accessAllowed ? 'block' : 'none';\n",
              "    })();\n",
              "  </script>\n",
              "</div>\n",
              "\n",
              "    </div>\n",
              "  </div>\n"
            ],
            "application/vnd.google.colaboratory.intrinsic+json": {
              "type": "dataframe",
              "variable_name": "data",
              "summary": "{\n  \"name\": \"data\",\n  \"rows\": 361,\n  \"fields\": [\n    {\n      \"column\": \"latitude \",\n      \"properties\": {\n        \"dtype\": \"number\",\n        \"std\": 0.01818936479483771,\n        \"min\": 12.77064748,\n        \"max\": 12.82530724,\n        \"num_unique_values\": 193,\n        \"samples\": [\n          12.78559147,\n          12.82530724,\n          12.77408691\n        ],\n        \"semantic_type\": \"\",\n        \"description\": \"\"\n      }\n    },\n    {\n      \"column\": \"longitude\",\n      \"properties\": {\n        \"dtype\": \"number\",\n        \"std\": 0.01032898966428831,\n        \"min\": 80.00742375,\n        \"max\": 80.04133535,\n        \"num_unique_values\": 193,\n        \"samples\": [\n          80.02978521,\n          80.04035977,\n          80.01100951\n        ],\n        \"semantic_type\": \"\",\n        \"description\": \"\"\n      }\n    },\n    {\n      \"column\": \"path_id\",\n      \"properties\": {\n        \"dtype\": \"number\",\n        \"std\": 1,\n        \"min\": 1,\n        \"max\": 5,\n        \"num_unique_values\": 5,\n        \"samples\": [\n          2,\n          5,\n          3\n        ],\n        \"semantic_type\": \"\",\n        \"description\": \"\"\n      }\n    },\n    {\n      \"column\": \"danger_metric\",\n      \"properties\": {\n        \"dtype\": \"number\",\n        \"std\": 1,\n        \"min\": 0,\n        \"max\": 7,\n        \"num_unique_values\": 8,\n        \"samples\": [\n          1,\n          5,\n          3\n        ],\n        \"semantic_type\": \"\",\n        \"description\": \"\"\n      }\n    },\n    {\n      \"column\": \"weather_sensitivity\",\n      \"properties\": {\n        \"dtype\": \"number\",\n        \"std\": 1,\n        \"min\": 0,\n        \"max\": 6,\n        \"num_unique_values\": 7,\n        \"samples\": [\n          5,\n          4,\n          3\n        ],\n        \"semantic_type\": \"\",\n        \"description\": \"\"\n      }\n    }\n  ]\n}"
            }
          },
          "metadata": {},
          "execution_count": 200
        }
      ]
    },
    {
      "cell_type": "code",
      "source": [
        "def get_weather(lat, lon):\n",
        "  API_key = ''# Enter your API Key here\n",
        "  url = f'https://api.openweathermap.org/data/2.5/weather?lat={lat}&lon={lon}&appid={API_key}'\n",
        "  response = requests.get(url)\n",
        "  if response.status_code == 200:\n",
        "    weather_data = response.json()\n",
        "    weather = weather_data['weather'][0]['main'].lower()\n",
        "    return weather"
      ],
      "metadata": {
        "id": "qH1aF_alq32N"
      },
      "execution_count": 201,
      "outputs": []
    },
    {
      "cell_type": "code",
      "source": [
        "# set values as per danger due to outcome\n",
        "weather_metrics = {\n",
        "    'clear sky' : 0,\n",
        "    'few clouds' : 0.5,\n",
        "    'scattered clouds' : 0.5,\n",
        "    'broken clouds' : 0.5,\n",
        "    'clouds' : 1,\n",
        "    'drizzle' : 2,\n",
        "    'shower rain' : 4,\n",
        "    'rain' : 4,\n",
        "    'thunderstorm' : 5,\n",
        "    'mist' : 3\n",
        "}"
      ],
      "metadata": {
        "id": "YjSxqsldf3cu"
      },
      "execution_count": 202,
      "outputs": []
    },
    {
      "cell_type": "code",
      "source": [
        "locations = {\n",
        "    'srm university' : (12.81939052, 80.03934997),\n",
        "    'home' : (12.77402729, 80.01186774)\n",
        "}"
      ],
      "metadata": {
        "id": "S9g3eDmLaBfk"
      },
      "execution_count": 203,
      "outputs": []
    },
    {
      "cell_type": "code",
      "source": [
        "destination = input('Enter Destination: ').lower()"
      ],
      "metadata": {
        "id": "X72bx9uceE1F",
        "outputId": "152b9450-efad-4769-cc69-33ad29d670a7",
        "colab": {
          "base_uri": "https://localhost:8080/"
        }
      },
      "execution_count": 204,
      "outputs": [
        {
          "name": "stdout",
          "output_type": "stream",
          "text": [
            "Enter Destination: SRM University\n"
          ]
        }
      ]
    },
    {
      "cell_type": "code",
      "source": [
        "lat, lon = locations[destination]\n",
        "destination_weather = get_weather(lat,lon)"
      ],
      "metadata": {
        "id": "xe1Jj5GElHtQ"
      },
      "execution_count": 217,
      "outputs": []
    },
    {
      "cell_type": "code",
      "source": [
        "curr_location = input('Enter Current location: ').lower()"
      ],
      "metadata": {
        "id": "IGCrOJ05e_b1",
        "outputId": "bb4ba1ed-d46a-41ca-9af6-ee3822aae847",
        "colab": {
          "base_uri": "https://localhost:8080/"
        }
      },
      "execution_count": 206,
      "outputs": [
        {
          "name": "stdout",
          "output_type": "stream",
          "text": [
            "Enter Current location: Home\n"
          ]
        }
      ]
    },
    {
      "cell_type": "code",
      "source": [
        "lat, lon = locations[curr_location]\n",
        "location_weather = get_weather(lat,lon)"
      ],
      "metadata": {
        "id": "tGSG1f7uiaky"
      },
      "execution_count": 207,
      "outputs": []
    },
    {
      "cell_type": "code",
      "source": [
        "weather_metric = (weather_metrics[destination_weather] + weather_metrics[location_weather])/2 # avg of location and destination\n",
        "weather_metric"
      ],
      "metadata": {
        "id": "jbccUMHYloBf",
        "outputId": "bca53a2d-e9b8-4615-d106-61b7d52bd885",
        "colab": {
          "base_uri": "https://localhost:8080/"
        }
      },
      "execution_count": 208,
      "outputs": [
        {
          "output_type": "execute_result",
          "data": {
            "text/plain": [
              "1.0"
            ]
          },
          "metadata": {},
          "execution_count": 208
        }
      ]
    },
    {
      "cell_type": "markdown",
      "source": [
        "## Path Recommenadation"
      ],
      "metadata": {
        "id": "mtCRMgpFttt9"
      }
    },
    {
      "source": [
        "max_danger_metrics = []\n",
        "max_weather_sensitivities = []\n",
        "\n",
        "for i in data['path_id'].unique():\n",
        "  max_danger_metric = max(data['danger_metric'][data['path_id'] == i])\n",
        "  max_weather_sensitivity = max(data['weather_sensitivity'][data['path_id'] == i])\n",
        "  max_danger_metrics.append(max_danger_metric)\n",
        "  max_weather_sensitivities.append(max_weather_sensitivity)"
      ],
      "cell_type": "code",
      "metadata": {
        "id": "itlTmrN3duAm"
      },
      "execution_count": 209,
      "outputs": []
    },
    {
      "cell_type": "code",
      "source": [
        "max_danger_metrics"
      ],
      "metadata": {
        "id": "X2ZWz-aTdvAW",
        "outputId": "47273600-3dea-455f-d2fe-9ecf2fc039af",
        "colab": {
          "base_uri": "https://localhost:8080/"
        }
      },
      "execution_count": 210,
      "outputs": [
        {
          "output_type": "execute_result",
          "data": {
            "text/plain": [
              "[4, 7, 4, 7, 4]"
            ]
          },
          "metadata": {},
          "execution_count": 210
        }
      ]
    },
    {
      "cell_type": "code",
      "source": [
        "max_weather_sensitivities"
      ],
      "metadata": {
        "id": "SJjtdkKxeBG5",
        "outputId": "890cfc80-a1b4-40cc-c73b-1b85e6243d68",
        "colab": {
          "base_uri": "https://localhost:8080/"
        }
      },
      "execution_count": 211,
      "outputs": [
        {
          "output_type": "execute_result",
          "data": {
            "text/plain": [
              "[6, 6, 6, 6, 6]"
            ]
          },
          "metadata": {},
          "execution_count": 211
        }
      ]
    },
    {
      "cell_type": "code",
      "source": [
        "min_danger_index = max_danger_metrics.index(min(max_danger_metrics))+1\n",
        "min_weather_index = max_weather_sensitivities.index(min(max_weather_sensitivities))+1\n",
        "\n",
        "print(min_danger_index)\n",
        "print(min_weather_index)"
      ],
      "metadata": {
        "id": "s77enNvmuOWD",
        "outputId": "cb732939-ac41-4109-c59c-5225c99c0bcf",
        "colab": {
          "base_uri": "https://localhost:8080/"
        }
      },
      "execution_count": 212,
      "outputs": [
        {
          "output_type": "stream",
          "name": "stdout",
          "text": [
            "1\n",
            "1\n"
          ]
        }
      ]
    },
    {
      "cell_type": "code",
      "source": [
        "danger_of_path = []\n",
        "for i in range(len(max_danger_metrics)):\n",
        "  danger = max_danger_metrics[i] * 0.75 + max_weather_sensitivities[i] * weather_metric * 0.25\n",
        "  danger_of_path.append(danger)\n",
        "danger_of_path"
      ],
      "metadata": {
        "id": "ppwMUx1Awgb7",
        "outputId": "da51baec-e69b-4a40-d532-5ae6a0bea0f6",
        "colab": {
          "base_uri": "https://localhost:8080/"
        }
      },
      "execution_count": 213,
      "outputs": [
        {
          "output_type": "execute_result",
          "data": {
            "text/plain": [
              "[4.5, 6.75, 4.5, 6.75, 4.5]"
            ]
          },
          "metadata": {},
          "execution_count": 213
        }
      ]
    },
    {
      "cell_type": "code",
      "source": [
        "recommended_path = danger_of_path.index(min(danger_of_path))+1\n",
        "recommended_path"
      ],
      "metadata": {
        "id": "d4aP5IYOyjFA",
        "outputId": "268463c2-6740-4d9e-e4be-781367ba8743",
        "colab": {
          "base_uri": "https://localhost:8080/"
        }
      },
      "execution_count": 214,
      "outputs": [
        {
          "output_type": "execute_result",
          "data": {
            "text/plain": [
              "1"
            ]
          },
          "metadata": {},
          "execution_count": 214
        }
      ]
    },
    {
      "cell_type": "code",
      "source": [
        "tts = gTTS(f\"It is recommended that you take path of path ID {recommended_path}. Have a safe journey!\")\n",
        "tts.save('recommended_path.wav')\n",
        "sound_file = 'recommended_path.wav'\n",
        "display(Audio(sound_file, autoplay=True))"
      ],
      "metadata": {
        "id": "C9K25wIuzKQ3",
        "outputId": "4135eeef-83be-403a-ca32-b16db51a58fe",
        "colab": {
          "base_uri": "https://localhost:8080/",
          "height": 76
        }
      },
      "execution_count": 215,
      "outputs": [
        {
          "output_type": "display_data",
          "data": {
            "text/plain": [
              "<IPython.lib.display.Audio object>"
            ],
            "text/html": [
              "\n",
              "                <audio  controls=\"controls\" autoplay=\"autoplay\">\n",
              "                    <source src=\"data:audio/x-wav;base64,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\" type=\"audio/x-wav\" />\n",
              "                    Your browser does not support the audio element.\n",
              "                </audio>\n",
              "              "
            ]
          },
          "metadata": {}
        }
      ]
    }
  ],
  "metadata": {
    "colab": {
      "provenance": [],
      "toc_visible": true,
      "include_colab_link": true
    },
    "kernelspec": {
      "display_name": "cuda-wander-guardian",
      "language": "python",
      "name": "cuda"
    },
    "language_info": {
      "codemirror_mode": {
        "name": "ipython",
        "version": 3
      },
      "file_extension": ".py",
      "mimetype": "text/x-python",
      "name": "python",
      "nbconvert_exporter": "python",
      "pygments_lexer": "ipython3",
      "version": "3.11.7"
    }
  },
  "nbformat": 4,
  "nbformat_minor": 0
}
